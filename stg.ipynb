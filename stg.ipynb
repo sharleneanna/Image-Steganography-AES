{
  "nbformat": 4,
  "nbformat_minor": 0,
  "metadata": {
    "colab": {
      "provenance": [],
      "authorship_tag": "ABX9TyOyPHvdWov86+f2uv9DWwLL",
      "include_colab_link": true
    },
    "kernelspec": {
      "name": "python3",
      "display_name": "Python 3"
    },
    "language_info": {
      "name": "python"
    }
  },
  "cells": [
    {
      "cell_type": "markdown",
      "metadata": {
        "id": "view-in-github",
        "colab_type": "text"
      },
      "source": [
        "<a href=\"https://colab.research.google.com/github/sharleneanna/Image-Steganography-AES/blob/main/stg.ipynb\" target=\"_parent\"><img src=\"https://colab.research.google.com/assets/colab-badge.svg\" alt=\"Open In Colab\"/></a>"
      ]
    },
    {
      "cell_type": "code",
      "execution_count": null,
      "metadata": {
        "colab": {
          "base_uri": "https://localhost:8080/"
        },
        "id": "l3mM35WHITbF",
        "outputId": "abf9d360-a577-4280-90df-71cf50c805fb"
      },
      "outputs": [
        {
          "output_type": "stream",
          "name": "stdout",
          "text": [
            "Enter secret message:hi this is sharlene here\n",
            "Enter a passcode:123456\n",
            "Enter passcode for Decryption123456\n",
            "Decryption message: hi this is sharlene here\n"
          ]
        }
      ],
      "source": [
        "import cv2\n",
        "import os\n",
        "import string\n",
        "\n",
        "img = cv2.imread(\"test.jpg\")\n",
        "\n",
        "msg = input(\"Enter secret message:\")\n",
        "password = input(\"Enter a passcode:\")\n",
        "\n",
        "d = {}\n",
        "c = {}\n",
        "\n",
        "for i in range(255):\n",
        "    d[chr(i)] = i\n",
        "    c[i] = chr(i)\n",
        "\n",
        "m = 0\n",
        "n = 0\n",
        "z = 0\n",
        "\n",
        "for i in range(len(msg)):\n",
        "    img[n, m, z] = d[msg[i]]\n",
        "    n = n + 1\n",
        "    m = m + 1\n",
        "    z = (z + 1) % 3\n",
        "\n",
        "cv2.imwrite(\"encryptedImage.jpg\", img)\n",
        "os.system(\"start encryptedImage.jpg\")\n",
        "\n",
        "message = \"\"\n",
        "n = 0\n",
        "m = 0\n",
        "z = 0\n",
        "\n",
        "pas = input(\"Enter passcode for Decryption\")\n",
        "if password == pas:\n",
        "    for i in range(len(msg)):\n",
        "        message = message + c[img[n, m, z]]\n",
        "        n = n + 1\n",
        "        m = m + 1\n",
        "        z = (z + 1) % 3\n",
        "    print(\"Decryption message:\", message)\n",
        "else:\n",
        "    print(\"YOU ARE NOT auth\")"
      ]
    },
    {
      "cell_type": "code",
      "source": [
        "import cv2\n",
        "import gradio as gr\n",
        "import numpy as np\n",
        "from cryptography.hazmat.primitives.kdf.pbkdf2 import PBKDF2HMAC\n",
        "from cryptography.hazmat.primitives import hashes\n",
        "from cryptography.hazmat.primitives.ciphers import Cipher, algorithms, modes\n",
        "import base64\n",
        "import os\n",
        "\n",
        "def encrypt_message(secret_msg, password):\n",
        "    salt = os.urandom(16)\n",
        "    kdf = PBKDF2HMAC(algorithm=hashes.SHA256(), length=32, salt=salt, iterations=100000)\n",
        "    key = kdf.derive(password.encode())\n",
        "\n",
        "    iv = os.urandom(16)\n",
        "    cipher = Cipher(algorithms.AES(key), modes.CBC(iv))\n",
        "    encryptor = cipher.encryptor()\n",
        "\n",
        "    padded_msg = secret_msg + ' ' * (16 - len(secret_msg) % 16)\n",
        "    encrypted_msg = encryptor.update(padded_msg.encode()) + encryptor.finalize()\n",
        "\n",
        "    return base64.b64encode(salt + iv + encrypted_msg).decode()\n",
        "\n",
        "def decrypt_message(encrypted_msg, password):\n",
        "    try:\n",
        "        encrypted_msg = base64.b64decode(encrypted_msg)\n",
        "        salt, iv, encrypted_data = encrypted_msg[:16], encrypted_msg[16:32], encrypted_msg[32:]\n",
        "\n",
        "        kdf = PBKDF2HMAC(algorithm=hashes.SHA256(), length=32, salt=salt, iterations=100000)\n",
        "        key = kdf.derive(password.encode())\n",
        "\n",
        "        cipher = Cipher(algorithms.AES(key), modes.CBC(iv))\n",
        "        decryptor = cipher.decryptor()\n",
        "        decrypted_msg = decryptor.update(encrypted_data) + decryptor.finalize()\n",
        "\n",
        "        return decrypted_msg.decode().strip()\n",
        "    except:\n",
        "        return \"Decryption Failed! Incorrect Password.\"\n",
        "\n",
        "def encode_message(image, msg, password):\n",
        "    img = cv2.imread(image.name)\n",
        "    h, w, _ = img.shape\n",
        "\n",
        "    encrypted_msg = encrypt_message(msg, password)\n",
        "    msg_ascii = [ord(c) for c in encrypted_msg]\n",
        "\n",
        "    if len(msg_ascii) + 2 > h * w:\n",
        "        return \"Error: Message too long for this image!\"\n",
        "\n",
        "    img[0, 0, 0] = len(msg_ascii)\n",
        "\n",
        "    index = 1\n",
        "    for i, char in enumerate(msg_ascii):\n",
        "        img[0, index, 1] = char\n",
        "        index += 1\n",
        "\n",
        "    encrypted_image_path = \"encrypted_image.png\"\n",
        "    cv2.imwrite(encrypted_image_path, img)\n",
        "\n",
        "    return encrypted_image_path\n",
        "\n",
        "def decode_message(image, password_input):\n",
        "    img = cv2.imread(image.name)\n",
        "    h, w, _ = img.shape\n",
        "\n",
        "    msg_length = img[0, 0, 0]\n",
        "    encrypted_msg = \"\".join(chr(img[0, i + 1, 1]) for i in range(msg_length))\n",
        "\n",
        "    decrypted_msg = decrypt_message(encrypted_msg, password_input)\n",
        "\n",
        "    if decrypted_msg.startswith(\"Decryption Failed\"):\n",
        "        return decrypted_msg\n",
        "    return f\"Decryption Successful! Message: {decrypted_msg}\"\n",
        "\n",
        "encrypt_interface = gr.Interface(\n",
        "    fn=encode_message,\n",
        "    inputs=[\"file\", \"text\", \"text\"],\n",
        "    outputs=\"file\",\n",
        "    title=\"AES-Powered Image Steganography\",\n",
        "    description=\"Upload an image, enter a secret message & password. The message is AES-encrypted and hidden inside the image.\"\n",
        ")\n",
        "\n",
        "decrypt_interface = gr.Interface(\n",
        "    fn=decode_message,\n",
        "    inputs=[\"file\", \"text\"],\n",
        "    outputs=\"text\",\n",
        "    title=\"Decrypt AES-Encrypted Message\",\n",
        "    description=\"Upload the encrypted image & enter the correct password to retrieve your AES-encrypted message.\"\n",
        ")\n",
        "\n",
        "gr.TabbedInterface([encrypt_interface, decrypt_interface], [\"Encrypt\", \"Decrypt\"]).launch()\n"
      ],
      "metadata": {
        "colab": {
          "base_uri": "https://localhost:8080/",
          "height": 641
        },
        "id": "7IDcIgQmNcly",
        "outputId": "91213dfc-6c2a-4e37-b548-fe49a6b8512b"
      },
      "execution_count": null,
      "outputs": [
        {
          "output_type": "stream",
          "name": "stdout",
          "text": [
            "Running Gradio in a Colab notebook requires sharing enabled. Automatically setting `share=True` (you can turn this off by setting `share=False` in `launch()` explicitly).\n",
            "\n",
            "Colab notebook detected. To show errors in colab notebook, set debug=True in launch()\n",
            "* Running on public URL: https://0aac9e75271ec18df7.gradio.live\n",
            "\n",
            "This share link expires in 72 hours. For free permanent hosting and GPU upgrades, run `gradio deploy` from the terminal in the working directory to deploy to Hugging Face Spaces (https://huggingface.co/spaces)\n"
          ]
        },
        {
          "output_type": "display_data",
          "data": {
            "text/plain": [
              "<IPython.core.display.HTML object>"
            ],
            "text/html": [
              "<div><iframe src=\"https://0aac9e75271ec18df7.gradio.live\" width=\"100%\" height=\"500\" allow=\"autoplay; camera; microphone; clipboard-read; clipboard-write;\" frameborder=\"0\" allowfullscreen></iframe></div>"
            ]
          },
          "metadata": {}
        },
        {
          "output_type": "execute_result",
          "data": {
            "text/plain": []
          },
          "metadata": {},
          "execution_count": 6
        }
      ]
    }
  ]
}